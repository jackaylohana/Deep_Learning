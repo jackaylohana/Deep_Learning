{
  "nbformat": 4,
  "nbformat_minor": 0,
  "metadata": {
    "colab": {
      "name": "Deep_Learning_Basics.ipynb",
      "provenance": [],
      "collapsed_sections": [],
      "toc_visible": true,
      "authorship_tag": "ABX9TyNFwCG3vjEYVa8h5Qpw28s7",
      "include_colab_link": true
    },
    "kernelspec": {
      "name": "python3",
      "display_name": "Python 3"
    },
    "language_info": {
      "name": "python"
    }
  },
  "cells": [
    {
      "cell_type": "markdown",
      "metadata": {
        "id": "view-in-github",
        "colab_type": "text"
      },
      "source": [
        "<a href=\"https://colab.research.google.com/github/jackaylohana/Deep_Learning/blob/main/Deep_Learning_Basics.ipynb\" target=\"_parent\"><img src=\"https://colab.research.google.com/assets/colab-badge.svg\" alt=\"Open In Colab\"/></a>"
      ]
    },
    {
      "cell_type": "markdown",
      "source": [
        "# Deep Learning Basics"
      ],
      "metadata": {
        "id": "lTQIxKnX_eob"
      }
    },
    {
      "cell_type": "markdown",
      "source": [
        "Before we begin our journey towards Deep Learning, let us first discuss and get clear understanding of some buzzwords, you would have probably heard in the market. To know the difference between them is crucial when you will work on a project and implement different algorithms."
      ],
      "metadata": {
        "id": "LNKCHEhTDVFN"
      }
    },
    {
      "cell_type": "markdown",
      "source": [
        "### **AI vs. ML vs. DL**\n",
        "\n",
        "## Artificial Intelligence:\n",
        "  - Artifical Intelligence (AI) is the superset which encompasses both Machine Learning (ML) and Deep Learning (DL).\n",
        "  - It is the technique used to process information and produce the outputs which can mimic human intelligence.\n",
        "  - Since itelligence is the attribute associated with humans only, but when you program machines to imitate that intelligence, you are actually doing what we call AI.\n",
        "  - AI can further be divided into types. \n",
        "    - Artifical General Intelligence (AGI) which is still a domain of research for scientists.\n",
        "  - Examples include alphaGo, Sophia, Siri, Google Assistant and many.\n",
        "\n",
        "## Machine Learning:\n",
        "  - Machine Learning takes one step ahead and attemps to teach machines from the data provided to them to make predictions.\n",
        "  - It is subfield of AI which makes the use of data for training the machines.\n",
        "  - It can further be divided into three categories depending upon the method of training.\n",
        "    - Supervised Learning\n",
        "    - Unspervised Learing\n",
        "    - Reinforcement Learning\n",
        "  - Examples include spame email detection, house price prediction, recommendation systems and many.\n",
        "\n",
        "## Deep Learning:\n",
        "  - Deep Learning even takes one step further from ML.\n",
        "  - It is subfield of ML and inspired by the functioning of human brain.\n",
        "  - It processes information, extracts the features automatically and predicts the output precisely.\n",
        "  - It is based on the layers and neural networks architecture.\n",
        "  - It has revolutionized the AI and ML due to follwong reasons:\n",
        "    - Big Data (Large Datasets)\n",
        "    - Hardware Advancement (GPUs/TPUs)\n",
        "    - Open Source Sofware\n",
        "    - Cloud Implementation\n",
        "  - Examples include driveless cars, disease detection, speech recognition and many."
      ],
      "metadata": {
        "id": "G1Y5fMtE_kWA"
      }
    },
    {
      "cell_type": "code",
      "source": [
        ""
      ],
      "metadata": {
        "id": "DWVaRFC9FAYX"
      },
      "execution_count": null,
      "outputs": []
    }
  ]
}