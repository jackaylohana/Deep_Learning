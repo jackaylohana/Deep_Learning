{
  "cells": [
    {
      "cell_type": "markdown",
      "metadata": {
        "id": "view-in-github",
        "colab_type": "text"
      },
      "source": [
        "<a href=\"https://colab.research.google.com/github/jackaylohana/Deep_Learning/blob/main/DL_04_Callbacks.ipynb\" target=\"_parent\"><img src=\"https://colab.research.google.com/assets/colab-badge.svg\" alt=\"Open In Colab\"/></a>"
      ]
    },
    {
      "cell_type": "markdown",
      "metadata": {
        "id": "blY4Y4Y5GeE5"
      },
      "source": [
        "<a href=\"https://colab.research.google.com/github/https-deeplearning-ai/tensorflow-1-public/blob/master/C1/W2/ungraded_labs/C1_W2_Lab_1_beyond_hello_world.ipynb\" target=\"_parent\"><img src=\"https://colab.research.google.com/assets/colab-badge.svg\" alt=\"Open In Colab\"/></a>"
      ]
    },
    {
      "cell_type": "markdown",
      "source": [
        "# Fashion-MNIST Example with Callbacks funcion"
      ],
      "metadata": {
        "id": "KmX3f1UN88c6"
      }
    },
    {
      "cell_type": "markdown",
      "source": [
        "Building Deep Learning models without callbacks is like driving a car with no functioning brakes — you have little to no control over the whole process that is very likely to result in a disaster. In this article, you will learn how to monitor and improve your Deep Learning models using Keras callbacks like ModelCheckpoint and EarlyStopping.\n",
        "\n",
        "**what are callbacks?**\n",
        "\n",
        "From the [Keras Documentation](https://keras.io/api/callbacks/):\n",
        "\n",
        "*A callback is an object that can perform actions at various stages of training (e.g. at the start or end of an epoch, before or after a single batch, etc).*\n",
        "\n",
        "You can use callbacks to:\n",
        "\n",
        " \n",
        "\n",
        "*   Write TensorBoard logs after every batch of training to monitor your metrics\n",
        "*   Periodically save your model to disk\n",
        "*   Do early stopping\n",
        "\n",
        "*   Periodically save your model to disk\n",
        "*   Get a view on internal states and statistics of a model during training and more"
      ],
      "metadata": {
        "id": "LD5lcDv28zeu"
      }
    },
    {
      "cell_type": "code",
      "execution_count": null,
      "metadata": {
        "id": "q3KzJyjv3rnA"
      },
      "outputs": [],
      "source": [
        "# import tensorflow library\n",
        "import tensorflow as tf\n",
        "print(tf.__version__)"
      ]
    },
    {
      "cell_type": "markdown",
      "metadata": {
        "id": "n_n1U5do3u_F"
      },
      "source": [
        "The [Fashion MNIST dataset](https://github.com/zalandoresearch/fashion-mnist) is a collection of grayscale 28x28 pixel clothing images. Each image is associated with a label as shown in this table⁉\n",
        "\n",
        "| Label | Description |\n",
        "| --- | --- |\n",
        "| 0 | T-shirt/top |\n",
        "| 1 | Trouser |\n",
        "| 2 | Pullover |\n",
        "| 3 | Dress |\n",
        "| 4 | Coat |\n",
        "| 5 | Sandal |\n",
        "| 6 | Shirt |\n",
        "| 7 | Sneaker |\n",
        "| 8 | Bag |\n",
        "| 9 | Ankle boot |\n",
        "\n",
        "This dataset is available directly in the [tf.keras.datasets](https://www.tensorflow.org/api_docs/python/tf/keras/datasets) API and you load it like this:"
      ]
    },
    {
      "cell_type": "markdown",
      "source": [
        "\n",
        "\n",
        "---\n",
        "\n",
        "\n",
        "\n",
        "---\n",
        "\n",
        "\n",
        "Example#1: Early stopping the ANN model at Accuracy >= \n",
        "88% (epochs=5)"
      ],
      "metadata": {
        "id": "YdYEvhokAeXp"
      }
    },
    {
      "cell_type": "code",
      "source": [
        "# define callbacks function from keras\n",
        "class myCallback(tf.keras.callbacks.Callback):\n",
        "  def on_epoch_end(self, epoch, logs={}):\n",
        "    if(logs.get('accuracy') >= 0.88):\n",
        "      print(\"\\nReached 88% accuracy so cancelling training!\")\n",
        "      self.model.stop_training = True\n",
        "\n",
        "# instantiate the callbacks class\n",
        "callbacks = myCallback()\n",
        "# import the fasion mnist dataset\n",
        "mnist = tf.keras.datasets.fashion_mnist\n",
        "# load the dataset into test and train images\n",
        "(training_images, training_labels), (test_images, test_labels) = mnist.load_data()\n",
        "# normalizing the training and test dataset (0-1 from 0-255)\n",
        "training_images=training_images/255.0\n",
        "test_images=test_images/255.0\n",
        "# Defining the ANN model\n",
        "model = tf.keras.models.Sequential([\n",
        "  tf.keras.layers.Flatten(),\n",
        "  tf.keras.layers.Dense(512, activation=tf.nn.relu),\n",
        "  tf.keras.layers.Dense(10, activation=tf.nn.softmax)\n",
        "])\n",
        "# Compile the ANN model\n",
        "model.compile(optimizer='adam', loss='sparse_categorical_crossentropy', metrics=['accuracy'])\n",
        "# fitting the ANN model with callback parameter\n",
        "model.fit(training_images, training_labels, epochs=5, callbacks=[callbacks])"
      ],
      "metadata": {
        "id": "ENOO0qYA66Kb"
      },
      "execution_count": null,
      "outputs": []
    },
    {
      "cell_type": "markdown",
      "source": [
        "Example#2: Early stopping the ANN model at Accuracy > 80% (epochs=5)"
      ],
      "metadata": {
        "id": "bVVSkTwDCfpQ"
      }
    },
    {
      "cell_type": "code",
      "source": [
        "# define callbacks function from keras\n",
        "class myCallback(tf.keras.callbacks.Callback):\n",
        "  def on_epoch_end(self, epoch, logs={}):\n",
        "    if(logs.get('accuracy') > 0.80):\n",
        "      print(\"\\nReached 80% accuracy so cancelling training!\")\n",
        "      self.model.stop_training = True\n",
        "\n",
        "# instantiate the callbacks class\n",
        "callbacks = myCallback()\n",
        "# import the fasion mnist dataset\n",
        "mnist = tf.keras.datasets.fashion_mnist\n",
        "# load the dataset into test and train images\n",
        "(training_images, training_labels), (test_images, test_labels) = mnist.load_data()\n",
        "# normalizing the training and test dataset (0-1 from 0-255)\n",
        "training_images=training_images/255.0\n",
        "test_images=test_images/255.0\n",
        "# Defining the ANN model\n",
        "model = tf.keras.models.Sequential([\n",
        "  tf.keras.layers.Flatten(),\n",
        "  tf.keras.layers.Dense(512, activation=tf.nn.relu),\n",
        "  tf.keras.layers.Dense(10, activation=tf.nn.softmax)\n",
        "])\n",
        "# Compile the ANN model\n",
        "model.compile(optimizer='adam', loss='sparse_categorical_crossentropy', metrics=['accuracy'])\n",
        "# fitting the ANN model with callback parameter\n",
        "model.fit(training_images, training_labels, epochs=5, callbacks=[callbacks])"
      ],
      "metadata": {
        "id": "HDgyNg0pAHdb"
      },
      "execution_count": null,
      "outputs": []
    },
    {
      "cell_type": "markdown",
      "source": [
        "Example#3: Early stopping the ANN model at loss <= 0.3 (epochs=5)"
      ],
      "metadata": {
        "id": "POdhxLqqCjmv"
      }
    },
    {
      "cell_type": "code",
      "source": [
        "# define callbacks function from keras\n",
        "class myCallback(tf.keras.callbacks.Callback):\n",
        "  def on_epoch_end(self, epoch, logs={}):\n",
        "    if(logs.get('loss') <= 0.30):\n",
        "      print(\"\\nReached 0.3 loss so cancelling training!\")\n",
        "      self.model.stop_training = True\n",
        "\n",
        "# instantiate the callbacks class\n",
        "callbacks = myCallback()\n",
        "# import the fasion mnist dataset\n",
        "mnist = tf.keras.datasets.fashion_mnist\n",
        "# load the dataset into test and train images\n",
        "(training_images, training_labels), (test_images, test_labels) = mnist.load_data()\n",
        "# normalizing the training and test dataset (0-1 from 0-255)\n",
        "training_images=training_images/255.0\n",
        "test_images=test_images/255.0\n",
        "# Defining the ANN model\n",
        "model = tf.keras.models.Sequential([\n",
        "  tf.keras.layers.Flatten(),\n",
        "  tf.keras.layers.Dense(512, activation=tf.nn.relu),\n",
        "  tf.keras.layers.Dense(10, activation=tf.nn.softmax)\n",
        "])\n",
        "# Compile the ANN model\n",
        "model.compile(optimizer='adam', loss='sparse_categorical_crossentropy', metrics=['accuracy'])\n",
        "# fitting the ANN model with callback parameter\n",
        "model.fit(training_images, training_labels, epochs=5, callbacks=[callbacks])"
      ],
      "metadata": {
        "id": "uslG3sNpBCCM"
      },
      "execution_count": null,
      "outputs": []
    },
    {
      "cell_type": "markdown",
      "source": [
        "Example#4: Early stopping the ANN model at loss < 0.2 (epochs=10)"
      ],
      "metadata": {
        "id": "1pZhZEo2CubU"
      }
    },
    {
      "cell_type": "code",
      "source": [
        "# define callbacks function from keras\n",
        "class myCallback(tf.keras.callbacks.Callback):\n",
        "  def on_epoch_end(self, epoch, logs={}):\n",
        "    if(logs.get('loss') < 0.25):\n",
        "      print(\"\\nReached 0.25 loss so cancelling training!\")\n",
        "      self.model.stop_training = True\n",
        "\n",
        "# instantiate the callbacks class\n",
        "callbacks = myCallback()\n",
        "# import the fasion mnist dataset\n",
        "mnist = tf.keras.datasets.fashion_mnist\n",
        "# load the dataset into test and train images\n",
        "(training_images, training_labels), (test_images, test_labels) = mnist.load_data()\n",
        "# normalizing the training and test dataset (0-1 from 0-255)\n",
        "training_images=training_images/255.0\n",
        "test_images=test_images/255.0\n",
        "# Defining the ANN model\n",
        "model = tf.keras.models.Sequential([\n",
        "  tf.keras.layers.Flatten(),\n",
        "  tf.keras.layers.Dense(512, activation=tf.nn.relu),\n",
        "  tf.keras.layers.Dense(10, activation=tf.nn.softmax)\n",
        "])\n",
        "# Compile the ANN model\n",
        "model.compile(optimizer='adam', loss='sparse_categorical_crossentropy', metrics=['accuracy'])\n",
        "# fitting the ANN model with callback parameter\n",
        "model.fit(training_images, training_labels, epochs=10, callbacks=[callbacks])"
      ],
      "metadata": {
        "id": "Qd3qjOQXCy9o"
      },
      "execution_count": null,
      "outputs": []
    },
    {
      "cell_type": "markdown",
      "source": [
        "Example#5: Early stopping the ANN model at loss < 0.3 and accuracy > 90% (epochs=10)"
      ],
      "metadata": {
        "id": "3cMNCtM3GDvO"
      }
    },
    {
      "cell_type": "code",
      "source": [
        "# define callbacks function from keras\n",
        "class myCallback(tf.keras.callbacks.Callback):\n",
        "  def on_epoch_end(self, epoch, logs={}):\n",
        "    if(logs.get('loss') < 0.3):\n",
        "      if(logs.get('accuracy') > 0.90):\n",
        "        print(\"\\nReached loss less than 0.3 and accuracy greater than 90% so cancelling training!\")\n",
        "        self.model.stop_training = True\n",
        "\n",
        "# instantiate the callbacks class\n",
        "callbacks = myCallback()\n",
        "# import the fasion mnist dataset\n",
        "mnist = tf.keras.datasets.fashion_mnist\n",
        "# load the dataset into test and train images\n",
        "(training_images, training_labels), (test_images, test_labels) = mnist.load_data()\n",
        "# normalizing the training and test dataset (0-1 from 0-255)\n",
        "training_images=training_images/255.0\n",
        "test_images=test_images/255.0\n",
        "# Defining the ANN model\n",
        "model = tf.keras.models.Sequential([\n",
        "  tf.keras.layers.Flatten(),\n",
        "  tf.keras.layers.Dense(512, activation=tf.nn.relu),\n",
        "  tf.keras.layers.Dense(10, activation=tf.nn.softmax)\n",
        "])\n",
        "# Compile the ANN model\n",
        "model.compile(optimizer='adam', loss='sparse_categorical_crossentropy', metrics=['accuracy'])\n",
        "# fitting the ANN model with callback parameter\n",
        "model.fit(training_images, training_labels, epochs=10, callbacks=[callbacks])"
      ],
      "metadata": {
        "id": "9uE5VjwCC6jC"
      },
      "execution_count": null,
      "outputs": []
    },
    {
      "cell_type": "code",
      "source": [
        ""
      ],
      "metadata": {
        "id": "me135uqJExS2"
      },
      "execution_count": null,
      "outputs": []
    }
  ],
  "metadata": {
    "colab": {
      "collapsed_sections": [],
      "name": "DL_04_Callbacks.ipynb",
      "private_outputs": true,
      "provenance": [],
      "toc_visible": true,
      "include_colab_link": true
    },
    "kernelspec": {
      "display_name": "Python 3",
      "language": "python",
      "name": "python3"
    },
    "language_info": {
      "codemirror_mode": {
        "name": "ipython",
        "version": 3
      },
      "file_extension": ".py",
      "mimetype": "text/x-python",
      "name": "python",
      "nbconvert_exporter": "python",
      "pygments_lexer": "ipython3",
      "version": "3.7.4"
    }
  },
  "nbformat": 4,
  "nbformat_minor": 0
}